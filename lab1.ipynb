{
 "cells": [
  {
   "cell_type": "markdown",
   "metadata": {},
   "source": [
    "# Lab1: Introduction to the Course\n",
    "\n",
    "# 1. Getting Started\n",
    "\n",
    "# Python Basics\n",
    "\n",
    "**Variables:** Python variables are containers that store values. Python is not “statically typed”. We do not need to declare variables before using them or declare their type. A variable is created the moment we first assign a value to it. Examples:\n"
   ]
  },
  {
   "cell_type": "code",
   "execution_count": null,
   "metadata": {},
   "outputs": [
    {
     "name": "stdout",
     "output_type": "stream",
     "text": [
      "John :\n",
      "\t- age:  45 \n",
      "\t- salary:  1456.8\n",
      "Name's length:  4\n",
      "Sum of age and salary:  1501.8\n"
     ]
    }
   ],
   "source": [
    "import math\n",
    "\n",
    "# An integer assignment\n",
    "age = 45\n",
    "\n",
    "# A floating point\n",
    "salary = 1456.8\n",
    "\n",
    "# A string\n",
    "name = \"John\"\n",
    "\n",
    "print(name, \":\\n\\t- age: \", age, \"\\n\\t- salary: \", salary)\n",
    "\n",
    "# math\n",
    "math.floor(3.6)\n",
    "\n",
    "print(\"Name's length: \", len(name))\n",
    "print(\"Sum of age and salary: \", sum([age, salary]))"
   ]
  },
  {
   "cell_type": "code",
   "execution_count": null,
   "metadata": {},
   "outputs": [
    {
     "name": "stdout",
     "output_type": "stream",
     "text": [
      "John\n",
      "Mary\n",
      "0\n",
      "1\n",
      "2\n",
      "3\n"
     ]
    }
   ],
   "source": [
    "# loops & iterations\n",
    "\n",
    "for object in objectsArray:\n",
    "    print(object[\"name\"])\n",
    "\n",
    "for x in range(0, 4):\n",
    "    print(x)"
   ]
  },
  {
   "cell_type": "code",
   "execution_count": null,
   "metadata": {},
   "outputs": [
    {
     "name": "stdout",
     "output_type": "stream",
     "text": [
      "True\n",
      "True\n",
      "True\n",
      "True\n",
      "Title\n"
     ]
    }
   ],
   "source": [
    "# conditional & flow control\n",
    "\n",
    "print(not True == False)\n",
    "\n",
    "if (not 10 > 12) or (10 > 12):\n",
    "    print(True)\n",
    "\n",
    "print(str(True).lower() == \"true\")\n",
    "print(str(\"true\").title() == \"True\")\n",
    "print(\"title\".title())\n",
    "\n",
    "for obj in objectsArray:\n",
    "    if 'new_attribute' in obj:\n",
    "        print(obj['name'])\n",
    "    elif True:\n",
    "        print(\"no new attribute column in the \", obj[name], \" object\")\n",
    "    else:\n",
    "        print(\"Else statement\")"
   ]
  }
 ],
 "metadata": {
  "kernelspec": {
   "display_name": "Python 3",
   "language": "python",
   "name": "python3"
  },
  "language_info": {
   "codemirror_mode": {
    "name": "ipython",
    "version": 3
   },
   "file_extension": ".py",
   "mimetype": "text/x-python",
   "name": "python",
   "nbconvert_exporter": "python",
   "pygments_lexer": "ipython3",
   "version": "3.9.6"
  }
 },
 "nbformat": 4,
 "nbformat_minor": 2
}
