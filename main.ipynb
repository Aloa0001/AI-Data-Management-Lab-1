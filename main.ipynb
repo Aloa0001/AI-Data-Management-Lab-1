{
 "cells": [
  {
   "cell_type": "markdown",
   "metadata": {},
   "source": [
    "# Lab1: Introduction to the Course\n",
    "\n",
    "## 1. Getting Started\n",
    "\n",
    "## Python Basics\n",
    "\n",
    "**Variables:** Python variables are containers that store values. Python is not “statically typed”. We do not need to declare variables before using them or declare their type. A variable is created the moment we first assign a value to it. Examples:\n"
   ]
  },
  {
   "cell_type": "code",
   "execution_count": 30,
   "metadata": {},
   "outputs": [
    {
     "name": "stdout",
     "output_type": "stream",
     "text": [
      "John :\n",
      "\t- age:  45 \n",
      "\t- salary:  1456.8\n",
      "Name's length:  4\n",
      "Sum of age and salary:  1501.8\n"
     ]
    }
   ],
   "source": [
    "import math\n",
    "\n",
    "# An integer assignment\n",
    "age = 45\n",
    "\n",
    "# A floating point\n",
    "salary = 1456.8\n",
    "\n",
    "# A string\n",
    "name = \"John\"\n",
    "\n",
    "print(name, \":\\n\\t- age: \", age, \"\\n\\t- salary: \", salary)\n",
    "\n",
    "# math\n",
    "math.floor(3.6)\n",
    "\n",
    "print(\"Name's length: \", len(name))\n",
    "print(\"Sum of age and salary: \", sum([age, salary]))"
   ]
  },
  {
   "cell_type": "code",
   "execution_count": 31,
   "metadata": {},
   "outputs": [
    {
     "name": "stdout",
     "output_type": "stream",
     "text": [
      "[{'name': 'John', 'salary': 1456.8, 'age': 45}, {'name': 'Mary', 'salary': 1546, 'age': 33}]\n",
      "John\n"
     ]
    }
   ],
   "source": [
    "# lists & dictionaries\n",
    "obj1 = {\"name\": name, \"salary\": salary, \"age\": age}\n",
    "obj2 = {\"name\": \"Mary\", \"salary\": 1546, \"age\": 33}\n",
    "\n",
    "objArr = [obj1, obj2]\n",
    "print(objArr)\n",
    "print(objArr[0][\"name\"])"
   ]
  },
  {
   "cell_type": "code",
   "execution_count": 32,
   "metadata": {},
   "outputs": [
    {
     "name": "stdout",
     "output_type": "stream",
     "text": [
      "John\n",
      "Mary\n",
      "0\n",
      "1\n",
      "2\n",
      "3\n",
      "{0, 1, 2, 3, 4}\n",
      "[0, 1, 2, 3, 4]\n",
      "(0, 1, 2, 3, 4)\n",
      "[(0, 1, 2, 3, 4), {0, 1, 2, 3, 4}]\n"
     ]
    }
   ],
   "source": [
    "# loops & iterations\n",
    "\n",
    "for obj in objArr:\n",
    "    print(obj[\"name\"])\n",
    "\n",
    "for x in range(0, 4):\n",
    "    print(x)\n",
    "\n",
    "print(set(x for x in range(0, 5)))\n",
    "print([x for x in range(0, 5)])\n",
    "print(tuple(x for x in range(0, 5)))\n",
    "print([tuple(x for x in range(0, 5)), set(x for x in range(0, 5))])"
   ]
  },
  {
   "cell_type": "code",
   "execution_count": 33,
   "metadata": {},
   "outputs": [
    {
     "name": "stdout",
     "output_type": "stream",
     "text": [
      "True\n",
      "True\n",
      "True\n",
      "True\n",
      "Title\n",
      "False\n",
      "no 'email' attribute column in the  John  object\n",
      "no 'email' attribute column in the  Mary  object\n",
      "no 'email' attribute column in the Mary object\n",
      "John 's email address is  email@email.abc\n",
      "no 'email' attribute column in the  Mary  object\n"
     ]
    }
   ],
   "source": [
    "# conditional\n",
    "\n",
    "print(not True == False)\n",
    "\n",
    "if (not 10 > 12) or (10 > 12):\n",
    "    print(True)\n",
    "\n",
    "print(str(True).lower() == \"true\")\n",
    "print(str(\"true\").title() == \"True\")\n",
    "print(\"title\".title())\n",
    "print(5 not in [1, 2, 3, 4, 5])\n",
    "\n",
    "# loops\n",
    "\n",
    "for obj in objArr:\n",
    "    if \"new_attribute\" in obj:\n",
    "        print(obj[\"name\"])\n",
    "    elif \"email\" not in obj:\n",
    "        print(\"no 'email' attribute column in the \", obj[\"name\"], \" object\")\n",
    "    else:\n",
    "        print(\"Else statement\")\n",
    "\n",
    "# one-liner\n",
    "print(\n",
    "    \"\".join(\n",
    "        [\n",
    "            f\"{obj['name']}\"\n",
    "            if \"new_attribute\" in obj\n",
    "            else f\"no 'email' attribute column in the {obj['name']} object\"\n",
    "            if \"email\" not in obj\n",
    "            else None\n",
    "        ]\n",
    "    )\n",
    ")\n",
    "\n",
    "\n",
    "obj1[\"email\"] = \"email@email.abc\"\n",
    "\n",
    "for obj in objArr:\n",
    "    if \"email\" in obj:\n",
    "        print(obj[\"name\"], \"'s email address is \", obj[\"email\"])\n",
    "    elif \"email\" not in obj:\n",
    "        print(\"no 'email' attribute column in the \", obj[\"name\"], \" object\")\n",
    "    else:\n",
    "        print(\"Else statement\")"
   ]
  },
  {
   "cell_type": "code",
   "execution_count": 34,
   "metadata": {},
   "outputs": [
    {
     "name": "stdout",
     "output_type": "stream",
     "text": [
      "5\n",
      "4\n",
      "3\n",
      "2\n",
      "1\n",
      "0\n",
      "1\n",
      "2\n",
      "3\n",
      "4\n",
      "0 1 2 3 4\n",
      "0\n",
      "1\n",
      "2\n",
      "3\n",
      "4\n"
     ]
    }
   ],
   "source": [
    "# flow control\n",
    "x = 5\n",
    "\n",
    "while x > 0:\n",
    "    print(x)\n",
    "    x -= 1\n",
    "\n",
    "while x < 5:\n",
    "    print(x)\n",
    "    x += 1\n",
    "    if x > 1:\n",
    "        continue\n",
    "    if x > 2:\n",
    "        break\n",
    "\n",
    "# one-liner\n",
    "print(\" \".join(map(str, [x for x in range(0, 5)])))\n",
    "print(\"\\n\".join(map(str, [x for x in range(0, 5)])))"
   ]
  },
  {
   "cell_type": "code",
   "execution_count": 35,
   "metadata": {},
   "outputs": [
    {
     "name": "stdout",
     "output_type": "stream",
     "text": [
      "John's salary is 1456.8\n",
      "Mary's salary is 1546\n",
      "\n",
      "John's salary is 1456.8\n",
      "Mary's salary is 1546\n",
      "\n",
      "His name is J.\n"
     ]
    }
   ],
   "source": [
    "# f-strings & string formatting\n",
    "salary_display = \"\"\n",
    "for obj in objArr:\n",
    "    salary_display += f\"{obj['name']}'s salary is {obj['salary']}\\n\"\n",
    "print(salary_display)\n",
    "\n",
    "# one-liner\n",
    "print(\"\\n\".join([f\"{obj['name']}'s salary is {obj['salary']}\" for obj in objArr]))\n",
    "\n",
    "\n",
    "template = \"{} {name}{end}\".format(\"\\nHis name is\", name=\"J\", end=\".\")\n",
    "\n",
    "print(template)"
   ]
  },
  {
   "cell_type": "code",
   "execution_count": 36,
   "metadata": {},
   "outputs": [
    {
     "data": {
      "text/plain": [
       "'3.14'"
      ]
     },
     "execution_count": 36,
     "metadata": {},
     "output_type": "execute_result"
    }
   ],
   "source": [
    "\"{:.2f}\".format(math.pi)"
   ]
  },
  {
   "cell_type": "code",
   "execution_count": 37,
   "metadata": {},
   "outputs": [
    {
     "data": {
      "text/plain": [
       "2"
      ]
     },
     "execution_count": 37,
     "metadata": {},
     "output_type": "execute_result"
    }
   ],
   "source": [
    "My_list = [\"a\", \"b\", \"c\", \"d\"]\n",
    "My_list.index(\"c\")  # list index- finding the index of a specific list item"
   ]
  },
  {
   "cell_type": "code",
   "execution_count": 38,
   "metadata": {},
   "outputs": [
    {
     "name": "stdout",
     "output_type": "stream",
     "text": [
      "[1, 2, 3]\n",
      "2\n",
      "[1, 3]\n"
     ]
    }
   ],
   "source": [
    "my_list = [1, 2, 3, 4]\n",
    "my_list.pop()  # removes the last item in a list, string, or tuple\n",
    "print(my_list)\n",
    "print(my_list.pop(1))  # removes the item with the index of (1) in a list\n",
    "print(my_list)"
   ]
  },
  {
   "cell_type": "code",
   "execution_count": 39,
   "metadata": {},
   "outputs": [
    {
     "name": "stdout",
     "output_type": "stream",
     "text": [
      "3\n"
     ]
    },
    {
     "data": {
      "text/plain": [
       "5"
      ]
     },
     "execution_count": 39,
     "metadata": {},
     "output_type": "execute_result"
    }
   ],
   "source": [
    "print(\n",
    "    \"xcxvxb\".count(\"x\")\n",
    ")  # counts the number of a specific item \"x\" in a list or string.\n",
    "\"xcxvxb\".find(\"b\")  # find the place of a certain word or letter inside a string or list"
   ]
  },
  {
   "cell_type": "code",
   "execution_count": 40,
   "metadata": {},
   "outputs": [
    {
     "name": "stdout",
     "output_type": "stream",
     "text": [
      "True\n",
      "dict_keys(['name', 'salary', 'age', 'email'])\n",
      "dict_values(['John', 1456.8, 45, 'email@email.abc'])\n",
      "dict_items([('name', 'John'), ('salary', 1456.8), ('age', 45), ('email', 'email@email.abc')])\n",
      "45\n"
     ]
    }
   ],
   "source": [
    "obj3 = obj1\n",
    "obj4 = obj3.copy()\n",
    "\n",
    "obj4.clear()\n",
    "obj4 = \"xccvxcvxb\"\n",
    "\n",
    "\n",
    "print((\"name\" in obj3) & (\"age\" in obj3))  # checks if 'x' exists in dictionary data\n",
    "print(obj3.keys())  # prints the names in dictionary\n",
    "print(obj3.values())  # prints the values in dictionary\n",
    "print(obj3.items())  # prints\n",
    "print(obj3.get(\"age\", \"Key not found\"))  # prints a certain value"
   ]
  },
  {
   "cell_type": "code",
   "execution_count": 41,
   "metadata": {},
   "outputs": [
    {
     "name": "stdout",
     "output_type": "stream",
     "text": [
      "{'name': 'John', 'salary': 1456.8, 'age': 45, 'email': 'email@email.abc'}\n",
      "Hello Luca,\n",
      "thank you for joining our sdf.de. \n",
      "We are very happy to have you wwith us!\n",
      "\n",
      "Hello John,\n",
      "thank you for joining our abc.se. \n",
      "We are very happy to have you wwith us!\n",
      "\n",
      "([1, 2, 3, 4], [7, 8, 9], {'a': 'a', 'b': 'b'}) {'name': 'Johnny', 'age': 25, 'salary': 1489}\n"
     ]
    }
   ],
   "source": [
    "# Functions & Python Modules\n",
    "def my_print(txt):  # positional arguments - NOT optional\n",
    "    print(txt)\n",
    "\n",
    "\n",
    "my_print(obj1)\n",
    "\n",
    "msg_template = \"\"\"Hello {name},\n",
    "thank you for joining our {website}. \n",
    "We are very happy to have you wwith us!\n",
    "\"\"\"\n",
    "\n",
    "\n",
    "def template_msg(name_=\"John\", website_=\"abc.se\"):  # keyword arguments - optional\n",
    "    return msg_template.format(name=name_, website=website_)\n",
    "    # my_print(msg)\n",
    "\n",
    "\n",
    "print(template_msg(\"Luca\", \"sdf.de\"))\n",
    "print(template_msg())\n",
    "\n",
    "\n",
    "# The *args syntax collects any positional arguments into a tuple, and\n",
    "# the **kwargs syntax collects any keyword arguments into a dictionary\n",
    "def base_function(*args, **kwargs):\n",
    "    print(args, kwargs)\n",
    "\n",
    "\n",
    "base_function(\n",
    "    [1, 2, 3, 4], [7, 8, 9], {\"a\": \"a\", \"b\": \"b\"}, name=\"Johnny\", age=25, salary=1489\n",
    ")"
   ]
  },
  {
   "cell_type": "code",
   "execution_count": 42,
   "metadata": {},
   "outputs": [
    {
     "name": "stdout",
     "output_type": "stream",
     "text": [
      "<function send at 0x10e302b60>\n",
      "{'slideshow': {'author': 'Yours Truly', 'date': 'date of publication', 'slides': [{'title': 'Wake up to WonderWidgets!', 'type': 'all'}, {'items': ['Why <em>WonderWidgets</em> are great', 'Who <em>buys</em> WonderWidgets'], 'title': 'Overview', 'type': 'all'}], 'title': 'Sample Slide Show'}}\n"
     ]
    }
   ],
   "source": [
    "from py.sending import send\n",
    "\n",
    "print(send)\n",
    "\n",
    "print(send(\"a\", \"b\"))"
   ]
  },
  {
   "cell_type": "code",
   "execution_count": 43,
   "metadata": {},
   "outputs": [
    {
     "name": "stdout",
     "output_type": "stream",
     "text": [
      "/Users/alexo/Desktop/AI & Data Management/labs/lab1/AI-Data-Management-Lab-1\n",
      "/Users/alexo/Desktop/AI & Data Management/labs/lab1\n",
      "Hello John,\n",
      "\n",
      "How is it going?\n"
     ]
    }
   ],
   "source": [
    "# Files - Read \n",
    "import os\n",
    "\n",
    "BASE_DIR = %pwd\n",
    "ENTIRE_PROJECT_DIR = os.path.dirname(BASE_DIR)\n",
    "\n",
    "print(BASE_DIR)\n",
    "print(ENTIRE_PROJECT_DIR)\n",
    "\n",
    "email_txt = os.path.join(BASE_DIR, \"templates\", \"email.txt\")\n",
    "\n",
    "content = \"\"\n",
    "\n",
    "with open(email_txt, \"r\") as f:\n",
    "    content = f.read()\n",
    "\n",
    "print(content.format(name=\"John\"))"
   ]
  },
  {
   "cell_type": "code",
   "execution_count": 44,
   "metadata": {},
   "outputs": [
    {
     "name": "stdout",
     "output_type": "stream",
     "text": [
      "This is a valid path!\n",
      "skipped file_0.txt\n",
      "skipped file_1.txt\n",
      "skipped file_2.txt\n",
      "skipped file_3.txt\n",
      "skipped file_4.txt\n"
     ]
    }
   ],
   "source": [
    "# Directory & File - Create, Write\n",
    "\n",
    "import os\n",
    "\n",
    "BASE_DIR = %pwd\n",
    "\n",
    "files_dir = os.path.join(BASE_DIR, \"images\")\n",
    "\n",
    "os.makedirs(files_dir, exist_ok=True)\n",
    "\n",
    "if not os.path.exists(files_dir):\n",
    "    print(\"Not a valid path!\")\n",
    "else:\n",
    "    print(\"This is a valid path!\")\n",
    "    \n",
    "my_images = range(0, 5)\n",
    "\n",
    "for i in my_images:\n",
    "    fname = f\"file_{i}.txt\"\n",
    "    file_path = os.path.join(files_dir, fname)\n",
    "    if os.path.exists(file_path):\n",
    "        print(f\"skipped {fname}\")\n",
    "        continue\n",
    "    with open(file_path, \"w\") as f:\n",
    "        f.write(\"Hello World\")"
   ]
  },
  {
   "cell_type": "code",
   "execution_count": 45,
   "metadata": {},
   "outputs": [],
   "source": [
    "# Downloading from an URL\n",
    "import os \n",
    "import requests # efficient for http requests\n",
    "import shutil # efficient for downloading large files\n",
    "import py.downloads_util\n",
    "\n",
    "BASE_DIR = %pwd\n",
    "DOWNLOADS_DIR = os.path.join(BASE_DIR, \"downloads\")\n",
    "\n",
    "os.makedirs(DOWNLOADS_DIR, exist_ok=True)\n",
    "\n",
    "downloaded_img_path = os.path.join(DOWNLOADS_DIR, \"\")\n",
    "\n",
    "# a smallish item\n",
    "img_url = \"https://encrypted-tbn0.gstatic.com/images?q=tbn:ANd9GcQLZprupHLBxt_MHckG8HcXUrKvpU3fuMgJr2Nd0tktI-p-cuoiIu6_kVeX8c3eHeeyHLY&usqp=CAU\"\n",
    "downloaded_img_path = os.path.join(DOWNLOADS_DIR, \"img.jpg\")\n",
    "\n",
    "r = requests.get(img_url, stream=True)\n",
    "r.raise_for_status()\n",
    "with open(downloaded_img_path, 'wb') as f:\n",
    "    f.write(r.content)\n",
    "\n",
    "# for a larger item\n",
    "# large_img_url = \"https://previews.123rf.com/images/dodi19/dodi191312/dodi19131200005/24758968-le-lac-gentau-refletant-le-pic-du-midi-d-ossau-pirineos-atl%C3%A1nticos-francia.jpg\"\n",
    "# downloaded_large_img_path = os.path.join(DOWNLOADS_DIR, \"A1nticos-francia.jpg\")\n",
    "# downloads_util.download_file(large_img_url, downloaded_large_img_path)\n",
    "# with requests.get(large_img_url, stream=True) as r:\n",
    "#     with open(downloaded_large_img_path, 'wb') as f:\n",
    "#         shutil.copyfileobj(r.raw, f)"
   ]
  },
  {
   "cell_type": "code",
   "execution_count": 46,
   "metadata": {},
   "outputs": [
    {
     "name": "stdout",
     "output_type": "stream",
     "text": [
      "Rrrr\n",
      "grrrr\n",
      "Rrrr\n",
      "whraaahhhh\n"
     ]
    },
    {
     "data": {
      "text/plain": [
       "'grrrr'"
      ]
     },
     "execution_count": 46,
     "metadata": {},
     "output_type": "execute_result"
    }
   ],
   "source": [
    "# Classes and State\n",
    "from py.animal import Animal, Wolf\n",
    "\n",
    "\n",
    "print(Animal.noise)\n",
    "print(Wolf.noise)\n",
    "\n",
    "obj = Animal()\n",
    "\n",
    "obj.make_noise()\n",
    "obj.set_noise(\"whraaahhhh\")\n",
    "obj.make_noise()\n",
    "\n",
    "wolf = Wolf()\n",
    "\n",
    "wolf.get_noise()"
   ]
  },
  {
   "cell_type": "markdown",
   "metadata": {},
   "source": [
    "# Section 2: Exercises (10 points)\n",
    "\n",
    "The exercises here are to test your understanding of the tutorial videos above. They test the basic knowledge of Python programming such as variables (list, dictionaries), conditionals, conditional controls (break, continue), and functions.\n",
    "\n",
    "Note that They are self-evaluating tasks and do NOT hold any points for your assignments, So, you do not need to submit the results in Canvas.\n"
   ]
  },
  {
   "cell_type": "markdown",
   "metadata": {},
   "source": [
    "## A.0.1: Day Old Bread (formating output) Mandatory - 1pt\n",
    "\n",
    "A bakery sells loaves of bread for **$3.49** each. Day-old bread is **discounted by 60 percent.** Write a program that begins by reading the number of loaves of day-old bread being purchased from the user.\n",
    "\n",
    "Then your program should display the **regula price** for the bread, the **discount** because it is a day old, and the **total price.** All of the values should be displayed using **two decimal** places, and the decimal points in all of the numbers should be aligned when reasonable values are entered by the user.\n"
   ]
  },
  {
   "cell_type": "code",
   "execution_count": 47,
   "metadata": {},
   "outputs": [
    {
     "name": "stdout",
     "output_type": "stream",
     "text": [
      "Invalid input!\n",
      "Please enter a valid integer.\n",
      "Please enter a positive number!\n",
      "\n",
      "Bread loaves bought: 7 pcs\n",
      "Regular Price (3.49$ pcs): 24.43 $\n",
      "Discount (60%): 14.66 $\n",
      "\n",
      "Total Price: 9.77 $\n"
     ]
    }
   ],
   "source": [
    "REGULAR_PRICE = 3.49\n",
    "DISCOUNT = 60\n",
    "DISCOUNT_NORMALIZATION = DISCOUNT / 100\n",
    "\n",
    "# User prompt\n",
    "while True:\n",
    "    try:\n",
    "        bread_loaves = int(input(\"How many bread-loaves: \"))\n",
    "        # Handle negative values\n",
    "        if bread_loaves > 0:\n",
    "            break\n",
    "        else:\n",
    "            print(\"Please enter a positive number!\")\n",
    "    # Handle non integer user input\n",
    "    except ValueError:\n",
    "        print(\"Invalid input!\\nPlease enter a valid integer.\")\n",
    "\n",
    "# Calculations\n",
    "regular_price = bread_loaves * REGULAR_PRICE\n",
    "discount = regular_price * DISCOUNT_NORMALIZATION\n",
    "total_price = regular_price - discount\n",
    "\n",
    "# Print the result\n",
    "print(f\"\\nBread loaves bought: {bread_loaves} pcs\")\n",
    "print(f\"Regular Price ({REGULAR_PRICE:.2f}$ pcs): {regular_price:.2f} $\")\n",
    "print(f\"Discount ({DISCOUNT}%): {discount:.2f} $\")\n",
    "print(f\"\\nTotal Price: {total_price:.2f} $\")"
   ]
  },
  {
   "cell_type": "markdown",
   "metadata": {},
   "source": [
    "## A.0.2: Dog Years! (conditionals) Mandatory - 1pt\n",
    "\n",
    "It is commonly said that one human year is equivalent to 7 dog years. However, this simple conversion fails to recognize that dogs reach adulthood in approximately **two years.** As a result, some people believe that it is better to **count each of the first two human years as 10.5 dog years,** and then **count each additional human year as 4 dog years.**\n",
    "\n",
    "Write a program that implements the conversion from human years to dog years described in the previous paragraph. Ensure that your program works correctly for conversions of less than two human years and for conversions of two or more human years. Your program should display an appropriate error message if the user enters a negative number.\n"
   ]
  },
  {
   "cell_type": "code",
   "execution_count": 48,
   "metadata": {},
   "outputs": [
    {
     "name": "stdout",
     "output_type": "stream",
     "text": [
      "Invalid input. Please enter a valid number!\n",
      "Please enter a positive number!\n",
      "9.00 human years are the equivalent of \n",
      "49.00 dog years.\n"
     ]
    }
   ],
   "source": [
    "FIRST_YEAR = 10.5\n",
    "SPECIAL_YEARS = 2\n",
    "ADDITIONAL_YEAR = 4\n",
    "\n",
    "# User Prompt\n",
    "while True:\n",
    "    try:\n",
    "        human_years = float(input(\"Years: \"))\n",
    "        if human_years > 0:\n",
    "            break\n",
    "        else:\n",
    "            print(\"Please enter a positive number!\")\n",
    "    except ValueError:\n",
    "        print(\"Invalid input. Please enter a valid number!\")\n",
    "\n",
    "\n",
    "# Human years conversion to dog years without using if statement\n",
    "def get_dog_years(h_age):\n",
    "    return (\n",
    "        (h_age * 10.5)\n",
    "        if (h_age <= SPECIAL_YEARS)\n",
    "        else (SPECIAL_YEARS * 10.5 + (h_age - SPECIAL_YEARS) * 4)\n",
    "    )\n",
    "\n",
    "\n",
    "dog_years = get_dog_years(human_years)\n",
    "\n",
    "# Display result\n",
    "print(\n",
    "    f\"{human_years:.2f} human years are the equivalent of \\n{dog_years:.2f} dog years.\"\n",
    ")"
   ]
  },
  {
   "cell_type": "markdown",
   "metadata": {},
   "source": [
    "## A.0.4. Is it a prime number? (function) Mandatory - 1pt\n",
    "\n",
    "A prime number is an integer greater than 1 that is only divisible by one and itself.\n",
    "\n",
    "Write a function that **determines whether or not its parameter is prime,** returning **True if it is, and False otherwise.**\n",
    "\n",
    "Write a main program that **reads an integer from the user and displays a message indicating whether or not it is prime.**\n",
    "\n",
    "Ensure that the **main program will not run if the file containing your solution is imported into another program.**\n"
   ]
  },
  {
   "cell_type": "code",
   "execution_count": 49,
   "metadata": {},
   "outputs": [
    {
     "name": "stdout",
     "output_type": "stream",
     "text": [
      "Invalid input. Please enter an integer.\n",
      "Int: -7  is not  a prime number\n"
     ]
    }
   ],
   "source": [
    "import math as m\n",
    "\n",
    "\n",
    "# Validate prim numbers\n",
    "def is_prime(number):\n",
    "    if number < 2:\n",
    "        return False\n",
    "    for i in range(2, int(m.ceil(number / 2))):\n",
    "        if number % i == 0:\n",
    "            return False\n",
    "    return True\n",
    "\n",
    "\n",
    "# Ensure main program runs only executed directly\n",
    "# and not when imported as a module into another program\n",
    "if __name__ == \"__main__\":\n",
    "    # Prompt user\n",
    "    while True:\n",
    "        try:\n",
    "            user_input = int(input(\"Enter an integer: \"))\n",
    "            break\n",
    "        except ValueError:\n",
    "            print(\"Invalid input. Please enter an integer.\")\n",
    "\n",
    "    # Print the evaluation\n",
    "    print(\n",
    "        \"Int:\",\n",
    "        user_input,\n",
    "        \"is\" if is_prime(user_input) else \" is not\",\n",
    "        \" a prime number\",\n",
    "    )"
   ]
  },
  {
   "cell_type": "markdown",
   "metadata": {},
   "source": [
    "## A.0.5. What is the next prime? (loop) Mandatory - 1pts\n",
    "\n",
    "In this exercise, you will create a function named **\"nextPrime\"** that **finds and returns the first prime number larger than some integer, n.**\n",
    "The value of **n will be passed to the function as its only parameter.**\n",
    "\n",
    "Include a **main program that reads an integer from the user and displays the first prime number larger than the entered value.**\n",
    "\n",
    "**Import and use your solution to Exercise A.04** while completing this exercise.\n"
   ]
  },
  {
   "cell_type": "code",
   "execution_count": 50,
   "metadata": {},
   "outputs": [
    {
     "name": "stdout",
     "output_type": "stream",
     "text": [
      "The first prime number > than 99 is: 101\n"
     ]
    }
   ],
   "source": [
    "# Import the solution\n",
    "from py.primes import is_prime\n",
    "\n",
    "\n",
    "# Evaluate the next prime number\n",
    "def nextPrime(n):\n",
    "    eval_val = n\n",
    "    while True:\n",
    "        eval_val += 1\n",
    "        if is_prime(eval_val):\n",
    "            return eval_val\n",
    "\n",
    "\n",
    "#\n",
    "if __name__ == \"__main__\":\n",
    "    while True:\n",
    "        try:\n",
    "            user_input = int(input(\"Enter a positive integer: \"))\n",
    "            if user_input >= 0:\n",
    "                break\n",
    "            else:\n",
    "                print(\"Please, enter a positive integer.\")\n",
    "        except ValueError:\n",
    "            print(\"Invalid input. Please enter a positive integer.\")\n",
    "\n",
    "    next_prime = nextPrime(user_input)\n",
    "    print(f\"The first prime number > than {user_input} is: {next_prime}\")"
   ]
  },
  {
   "cell_type": "markdown",
   "metadata": {},
   "source": [
    "## A.0.3: Coin Flip - 3 same flips (loop) Mandatory - 1pts\n",
    "\n",
    "Create a program that uses Python’s **random number generator to simulate flipping a coin several times.** The simulated coin should be fair, meaning that the **probability of heads is equal to the probability of tails.**\n",
    "\n",
    "Each time the program is run, your **program should flip simulated coins until either 3 consecutive heads or 3 consecutive tails occur.** Display an **H each time the outcome is heads,** and a **T each time the outcome is tails,** with all of the outcomes shown on the same line.\n",
    "\n",
    "Then display the **number of flips needed to reach 3 consecutive flips** with the same outcome.\n",
    "\n",
    "**Hint:** The documentation for random library and function: External Link - Random LibraryL\n"
   ]
  },
  {
   "cell_type": "code",
   "execution_count": 51,
   "metadata": {},
   "outputs": [
    {
     "name": "stdout",
     "output_type": "stream",
     "text": [
      "T T H H H (5 flips)\n"
     ]
    }
   ],
   "source": [
    "import random\n",
    "\n",
    "\n",
    "# Flip coin until 3 consecutive faces\n",
    "def coin_flips():\n",
    "    heads = tails = flips = 0\n",
    "    sequence = []\n",
    "\n",
    "    while max(heads, tails) < 3:\n",
    "        # Provides an equal probability between the params\n",
    "        flip = random.choice([\"H\", \"T\"])\n",
    "        print(flip, end=\" \")  # add / print horizontally, with a space in between (1)\n",
    "        # sequence.append(flip)\n",
    "\n",
    "        # Conditional heads / tail update & reset\n",
    "        (heads, tails) = (heads + 1, 0) if flip == \"H\" else (0, tails + 1)\n",
    "\n",
    "        flips += 1\n",
    "\n",
    "    print(f\"({flips} flips)\")  # add, horizontally, the flips val(1)\n",
    "    # print(f\"{' '.join( sequence)} ({flips} flips)\")\n",
    "\n",
    "\n",
    "if __name__ == \"__main__\":\n",
    "    coin_flips()"
   ]
  },
  {
   "cell_type": "markdown",
   "metadata": {},
   "source": [
    "## A.0.6. Shuffle the cards! (function) Mandatory - 2pt\n",
    "\n",
    "A standard **deck** of playing cards contains **52 cards.**\n",
    "\n",
    "**Each card has one of four suits along with a value.**\n",
    "\n",
    "The suits:\n",
    "\n",
    "- spades - \"s\"\n",
    "- hearts - \"h\"\n",
    "- diamonds - \"d\"\n",
    "- clubs - \"c\"\n",
    "\n",
    "The values: are\n",
    "\n",
    "- 2 : 9,\n",
    "- 10 - “T”\n",
    "- Jack - “J”\n",
    "- Queen - “Q”\n",
    "- King - \"K\"\n",
    "- Ace - \"A\"\n",
    "\n",
    "Each playing card can be represented using two characters.\n",
    "\n",
    "The **first character is the value of the card,** with the values 2 through 9 being represented directly. The characters \"T\", \"J\", \"Q\", “K” and “A” are used to represent the values 10, Jack, Queen, King and Ace respectively.\n",
    "\n",
    "The **second character is used to represent the suit of the card.** It is normally a lowercase letter: “s” for spades, “h” for hearts, “d” for diamonds and “c” for clubs. The following table provides several examples of cards and their two-character representations.\n",
    "\n",
    "Begin by writing a function named **createDeck.** It will use loops to create a complete deck of cards by adding the suit to the number and storing the two-character abbreviations for all 52 cards in a list. **Return the list of cards** as the function’s only result. Your function will not take any parameters.\n",
    "\n",
    "Write a second function named **shuffle** that **randomizes the order of the cards** in a list. The input of the function should be the list contacting the deck of cards (52 items) that you have created in the previous function. You can use the **\"random\" library shuffle function.**\n",
    "\n",
    "Alternatively, you can write your own shuffling function: One technique that can be used to shuffle the cards is to visit each element in the list and swap it with another random element in the list. You must write your own loop for shuffling the cards.\n",
    "\n",
    "The **output** of the function should be 2 lists: the **deck of cards before shuffling and the deck of cards after shuffling.**\n"
   ]
  },
  {
   "cell_type": "code",
   "execution_count": 52,
   "metadata": {},
   "outputs": [
    {
     "name": "stdout",
     "output_type": "stream",
     "text": [
      "# 1 ['2s', '2h', '2d', '2c', '3s', '3h', '3d', '3c', '4s', '4h', '4d', '4c', '5s', '5h', '5d', '5c', '6s', '6h', '6d', '6c', '7s', '7h', '7d', '7c', '8s', '8h', '8d', '8c', '9s', '9h', '9d', '9c', 'Ts', 'Th', 'Td', 'Tc', 'Js', 'Jh', 'Jd', 'Jc', 'Qs', 'Qh', 'Qd', 'Qc', 'Ks', 'Kh', 'Kd', 'Kc', 'As', 'Ah', 'Ad', 'Ac']\n",
      "# 2 ['Kd', '5d', '8d', 'Jh', '9s', 'Td', 'Ts', '2d', 'Qh', 'As', '3d', 'Ks', '3c', 'Kh', 'Jc', 'Kc', '8s', '7h', '2s', '2c', 'Jd', '9d', '4c', '4s', 'Ad', '3s', '8c', 'Tc', '6d', 'Th', '3h', '5h', '9c', 'Qs', '6s', '6c', '4d', '7d', 'Js', '5s', '5c', '6h', '7c', '2h', 'Qd', '9h', 'Ac', '8h', 'Ah', '7s', 'Qc', '4h']\n"
     ]
    }
   ],
   "source": [
    "import random\n",
    "\n",
    "CARDS_DECK_SIZE = 52\n",
    "\n",
    "suits = [\"s\", \"h\", \"d\", \"c\"]\n",
    "values = [\"2\", \"3\", \"4\", \"5\", \"6\", \"7\", \"8\", \"9\", \"T\", \"J\", \"Q\", \"K\", \"A\"]\n",
    "\n",
    "\n",
    "# Returns the combination(suits, values)\n",
    "def createDeck():\n",
    "    deck = []\n",
    "    for val in values:\n",
    "        for su in suits:\n",
    "            deck.append(val + su)\n",
    "    return deck\n",
    "\n",
    "\n",
    "# Shuffles the parameter's values\n",
    "def shuffle(deck):\n",
    "    s_deck = deck.copy()  # Copy the deck to be shuffled\n",
    "\n",
    "    # random das a shuffle method\n",
    "    # random.shuffle(s_deck)\n",
    "\n",
    "    # Custom - shuffle the cards deck -\n",
    "    for i in range(CARDS_DECK_SIZE):\n",
    "        j = random.randint(0, CARDS_DECK_SIZE - 1)\n",
    "        # at every index, swap the value with a random index\n",
    "        (s_deck[i], s_deck[j]) = (s_deck[j], s_deck[i])\n",
    "\n",
    "    return (deck, s_deck)\n",
    "\n",
    "\n",
    "if __name__ == \"__main__\":\n",
    "    # Shuffle the deck and display the shuffled deck\n",
    "    deck, s_deck = shuffle(createDeck())\n",
    "    print(\"# 1\", deck)\n",
    "    print(\"# 2\", s_deck)"
   ]
  },
  {
   "cell_type": "markdown",
   "metadata": {},
   "source": [
    "## A.0.7: Deal the cards (function and class) Mandatory - 3pts\n",
    "\n",
    "In many card games, each player is dealt a specific number of cards after the deck has been shuffled.\n",
    "\n",
    "Write a function, **deal,** which **takes the number of hands, the number of cards per hand, and a deck of cards** as its three parameters.\n",
    "\n",
    "Your function should **return a list containing all of the hands that were dealt.**\n",
    "\n",
    "**Each hand will be represented as a list of cards.**\n",
    "\n",
    "When dealing with the hands, your function should **modify the deck of cards passed to it as a parameter, removing each card from the deck as it is added to a player’s hand.**\n",
    "\n",
    "When cards are dealt, it is customary to **give each player a card before any player receives an additional card.** Your function should follow this custom when constructing the hands for the players.\n",
    "\n",
    "When done with writing the above function, use your solution to A.0.6 to help you construct a main class that creates, shuffles, and deals a deck of cards. Your class structure should be like below:\n",
    "\n",
    "```py\n",
    "class cards():\n",
    "    cards=[]\n",
    "    def create (self):\n",
    "        self.cards=[]\n",
    "        #Your program goes here\n",
    "        #Construct the deck here\n",
    "\n",
    "\n",
    "    def shuffle (self):\n",
    "        #Your program goes here\n",
    "        #use constructed card deck by using \"self.cards\" and shuffle them\n",
    "\n",
    "    def deal (self,hands,card_num):\n",
    "        #Your program goes here\n",
    "        #use constructed card deck by using \"self.cards\" and deal based on the number of hands, \"hands\", and number of cards in each hand, \"num-cards\", that are recevied from the user\n",
    "\n",
    "\n",
    "#initialte your programs with this functions\n",
    "#card_01 = cards\n",
    "#card_01.create()\n",
    "#card_01.shuffle()\n",
    "#card_01.deal(X,Y) #Change X and Y ``\n",
    "```\n"
   ]
  },
  {
   "cell_type": "code",
   "execution_count": 54,
   "metadata": {},
   "outputs": [
    {
     "name": "stdout",
     "output_type": "stream",
     "text": [
      "Hands: 3\n",
      "Cards per hand: 4\n",
      "\n",
      "Hands' cards after assign (12): [['2s', '2c', '3d', '4h'], ['2h', '3s', '3c', '4d'], ['2d', '3h', '4s', '4c']]\n",
      "\n",
      "Remaining cards in the deck (40): ['5s', '5h', '5d', '5c', '6s', '6h', '6d', '6c', '7s', '7h', '7d', '7c', '8s', '8h', '8d', '8c', '9s', '9h', '9d', '9c', 'Ts', 'Th', 'Td', 'Tc', 'Js', 'Jh', 'Jd', 'Jc', 'Qs', 'Qh', 'Qd', 'Qc', 'Ks', 'Kh', 'Kd', 'Kc', 'As', 'Ah', 'Ad', 'Ac']\n"
     ]
    }
   ],
   "source": [
    "import random\n",
    "from py import deck\n",
    "\n",
    "if __name__ == \"__main__\":\n",
    "    card_01 = deck.Cards()\n",
    "    card_01.create()\n",
    "    card_01.shuffle()\n",
    "\n",
    "    hands = random.randint(2, 6)\n",
    "    cards_per_hand = random.randint(4, 7)\n",
    "\n",
    "    print(f\"Hands: {hands}\")\n",
    "    print(f\"Cards per hand: {cards_per_hand}\\n\")\n",
    "\n",
    "    assign_cards = card_01.deal(hands, cards_per_hand)\n",
    "    remaining_cards = []\n",
    "    for card in card_01.cards:\n",
    "        if card not in assign_cards:\n",
    "            remaining_cards.append(card)\n",
    "\n",
    "    print(f\"Hands' cards after assign ({hands * cards_per_hand}): {assign_cards}\\n\")\n",
    "    print(f\"Remaining cards in the deck ({len(remaining_cards)}): {remaining_cards}\")"
   ]
  },
  {
   "cell_type": "markdown",
   "metadata": {},
   "source": []
  }
 ],
 "metadata": {
  "kernelspec": {
   "display_name": "Python 3",
   "language": "python",
   "name": "python3"
  },
  "language_info": {
   "codemirror_mode": {
    "name": "ipython",
    "version": 3
   },
   "file_extension": ".py",
   "mimetype": "text/x-python",
   "name": "python",
   "nbconvert_exporter": "python",
   "pygments_lexer": "ipython3",
   "version": "3.11.4"
  }
 },
 "nbformat": 4,
 "nbformat_minor": 2
}
